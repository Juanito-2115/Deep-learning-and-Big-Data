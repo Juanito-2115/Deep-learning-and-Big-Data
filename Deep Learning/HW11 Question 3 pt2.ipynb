{
 "cells": [
  {
   "cell_type": "markdown",
   "id": "bb74125e",
   "metadata": {},
   "source": [
    "Juan Pablo Meza\n",
    "\n",
    "CIS 2532\n",
    "\n",
    "This program incorporates Intuitive Deep Learning in Neural Networks. We process and analyze the data using Keras and Tensorflow."
   ]
  },
  {
   "cell_type": "code",
   "execution_count": 1,
   "id": "6de85ff5",
   "metadata": {},
   "outputs": [],
   "source": [
    "#importing necessary libraries and repositories\n",
    "import numpy as np\n",
    "import tensorflow\n",
    "import keras\n",
    "from keras.datasets import cifar10\n",
    "import matplotlib.pyplot as plt\n",
    "from keras.models import Sequential\n",
    "from keras.layers import Dense, Dropout, Flatten, Conv2D, MaxPooling2D\n",
    "from skimage.transform import resize"
   ]
  },
  {
   "cell_type": "code",
   "execution_count": 2,
   "id": "88476fd6",
   "metadata": {},
   "outputs": [],
   "source": [
    "#importing the data into the train and test variables\n",
    "(x_train, y_train), (x_test, y_test) = cifar10.load_data()"
   ]
  },
  {
   "cell_type": "code",
   "execution_count": 3,
   "id": "925d66d8",
   "metadata": {},
   "outputs": [
    {
     "name": "stdout",
     "output_type": "stream",
     "text": [
      "X_train shape\n"
     ]
    },
    {
     "data": {
      "text/plain": [
       "(50000, 32, 32, 3)"
      ]
     },
     "execution_count": 3,
     "metadata": {},
     "output_type": "execute_result"
    }
   ],
   "source": [
    "#printing the shape of the x_train variable\n",
    "print('X_train shape')\n",
    "x_train.shape"
   ]
  },
  {
   "cell_type": "code",
   "execution_count": 4,
   "id": "685504af",
   "metadata": {},
   "outputs": [
    {
     "name": "stdout",
     "output_type": "stream",
     "text": [
      "Y_train shape\n"
     ]
    },
    {
     "data": {
      "text/plain": [
       "(50000, 1)"
      ]
     },
     "execution_count": 4,
     "metadata": {},
     "output_type": "execute_result"
    }
   ],
   "source": [
    "#printing the shape of the y_train variable\n",
    "print('Y_train shape')\n",
    "y_train.shape"
   ]
  },
  {
   "cell_type": "markdown",
   "id": "fc1fe614",
   "metadata": {},
   "source": [
    "Taking a look at an individual image from the 'cifar10' dataset using 'x_train[0]'\n",
    "\n",
    "Pulling the image from the x_train variable with index of '0'"
   ]
  },
  {
   "cell_type": "code",
   "execution_count": 5,
   "id": "e6c51496",
   "metadata": {},
   "outputs": [
    {
     "data": {
      "text/plain": [
       "array([[[ 59,  62,  63],\n",
       "        [ 43,  46,  45],\n",
       "        [ 50,  48,  43],\n",
       "        ...,\n",
       "        [158, 132, 108],\n",
       "        [152, 125, 102],\n",
       "        [148, 124, 103]],\n",
       "\n",
       "       [[ 16,  20,  20],\n",
       "        [  0,   0,   0],\n",
       "        [ 18,   8,   0],\n",
       "        ...,\n",
       "        [123,  88,  55],\n",
       "        [119,  83,  50],\n",
       "        [122,  87,  57]],\n",
       "\n",
       "       [[ 25,  24,  21],\n",
       "        [ 16,   7,   0],\n",
       "        [ 49,  27,   8],\n",
       "        ...,\n",
       "        [118,  84,  50],\n",
       "        [120,  84,  50],\n",
       "        [109,  73,  42]],\n",
       "\n",
       "       ...,\n",
       "\n",
       "       [[208, 170,  96],\n",
       "        [201, 153,  34],\n",
       "        [198, 161,  26],\n",
       "        ...,\n",
       "        [160, 133,  70],\n",
       "        [ 56,  31,   7],\n",
       "        [ 53,  34,  20]],\n",
       "\n",
       "       [[180, 139,  96],\n",
       "        [173, 123,  42],\n",
       "        [186, 144,  30],\n",
       "        ...,\n",
       "        [184, 148,  94],\n",
       "        [ 97,  62,  34],\n",
       "        [ 83,  53,  34]],\n",
       "\n",
       "       [[177, 144, 116],\n",
       "        [168, 129,  94],\n",
       "        [179, 142,  87],\n",
       "        ...,\n",
       "        [216, 184, 140],\n",
       "        [151, 118,  84],\n",
       "        [123,  92,  72]]], dtype=uint8)"
      ]
     },
     "execution_count": 5,
     "metadata": {},
     "output_type": "execute_result"
    }
   ],
   "source": [
    "x_train[0]"
   ]
  },
  {
   "cell_type": "markdown",
   "id": "9c01713a",
   "metadata": {},
   "source": [
    "Displaying the actual image that was just pulled using the matplotlib library"
   ]
  },
  {
   "cell_type": "code",
   "execution_count": 6,
   "id": "eee9208f",
   "metadata": {},
   "outputs": [
    {
     "data": {
      "image/png": "[encoded data removed]",
      "text/plain": [
       "<Figure size 640x480 with 1 Axes>"
      ]
     },
     "metadata": {},
     "output_type": "display_data"
    }
   ],
   "source": [
    "img = plt.imshow(x_train[0])"
   ]
  },
  {
   "cell_type": "code",
   "execution_count": 7,
   "id": "4dc54851",
   "metadata": {},
   "outputs": [
    {
     "name": "stdout",
     "output_type": "stream",
     "text": [
      "The label is: [6]\n"
     ]
    }
   ],
   "source": [
    "print(f'The label is: {y_train[0]}')"
   ]
  },
  {
   "cell_type": "markdown",
   "id": "1b1be6a2",
   "metadata": {},
   "source": [
    "Displaying one more image now, but instead of the index of '0' it will be index of '1' within the 'x_train' variable"
   ]
  },
  {
   "cell_type": "code",
   "execution_count": 8,
   "id": "e7ed081c",
   "metadata": {},
   "outputs": [
    {
     "data": {
      "image/png": "[encoded data removed]",
      "text/plain": [
       "<Figure size 640x480 with 1 Axes>"
      ]
     },
     "metadata": {},
     "output_type": "display_data"
    }
   ],
   "source": [
    "img = plt.imshow(x_train[1])"
   ]
  },
  {
   "cell_type": "code",
   "execution_count": 9,
   "id": "01b93eb2",
   "metadata": {},
   "outputs": [
    {
     "name": "stdout",
     "output_type": "stream",
     "text": [
      "The label is: [9]\n"
     ]
    }
   ],
   "source": [
    "print(f'The label is: {y_train[1]}')"
   ]
  },
  {
   "cell_type": "markdown",
   "id": "c9c36fbd",
   "metadata": {},
   "source": [
    "We now convert the label into a set of 10 numbers where each number represents if the image belongs to that class or not. Since we have 10 output neurons in our neural network, our labels must match this as well. To convert our labels to our one-hot encoding, we use a function in Keras:\n",
    "\n",
    "One-Hot Encoding: In digital circuits and machine learning, a one-hot is a group of bits among which the legal combinations of values are only those with a single high bit and all the others low. A similar implementation in which all bits are '1' except one '0' is sometimes called one-cold."
   ]
  },
  {
   "cell_type": "code",
   "execution_count": 10,
   "id": "f9bc3a92",
   "metadata": {},
   "outputs": [],
   "source": [
    "#creating the one-hot encoding for 'y_test' and y_train'\n",
    "y_train_one_hot = keras.utils.to_categorical(y_train, 10)\n",
    "y_test_one_hot = keras.utils.to_categorical(y_test, 10)"
   ]
  },
  {
   "cell_type": "code",
   "execution_count": 11,
   "id": "57b52755",
   "metadata": {},
   "outputs": [
    {
     "name": "stdout",
     "output_type": "stream",
     "text": [
      "The one hot label is: [0. 0. 0. 0. 0. 0. 0. 0. 0. 1.]\n"
     ]
    }
   ],
   "source": [
    "print(f'The one hot label is: {y_train_one_hot[1]}')"
   ]
  },
  {
   "cell_type": "code",
   "execution_count": 12,
   "id": "4e0529f8",
   "metadata": {},
   "outputs": [],
   "source": [
    "#A common step allow the values be between 0-1. This will aid the training of the neural network.\n",
    "#Since the pixel values are already known, we divide them by 255\n",
    "x_train = x_train.astype('float32')\n",
    "x_test = x_test.astype('float32')\n",
    "x_train = x_train / 255\n",
    "x_test = x_test / 255"
   ]
  },
  {
   "cell_type": "code",
   "execution_count": 13,
   "id": "00f9d675",
   "metadata": {},
   "outputs": [
    {
     "data": {
      "text/plain": [
       "array([[[0.23137255, 0.24313726, 0.24705882],\n",
       "        [0.16862746, 0.18039216, 0.1764706 ],\n",
       "        [0.19607843, 0.1882353 , 0.16862746],\n",
       "        ...,\n",
       "        [0.61960787, 0.5176471 , 0.42352942],\n",
       "        [0.59607846, 0.49019608, 0.4       ],\n",
       "        [0.5803922 , 0.4862745 , 0.40392157]],\n",
       "\n",
       "       [[0.0627451 , 0.07843138, 0.07843138],\n",
       "        [0.        , 0.        , 0.        ],\n",
       "        [0.07058824, 0.03137255, 0.        ],\n",
       "        ...,\n",
       "        [0.48235294, 0.34509805, 0.21568628],\n",
       "        [0.46666667, 0.3254902 , 0.19607843],\n",
       "        [0.47843137, 0.34117648, 0.22352941]],\n",
       "\n",
       "       [[0.09803922, 0.09411765, 0.08235294],\n",
       "        [0.0627451 , 0.02745098, 0.        ],\n",
       "        [0.19215687, 0.10588235, 0.03137255],\n",
       "        ...,\n",
       "        [0.4627451 , 0.32941177, 0.19607843],\n",
       "        [0.47058824, 0.32941177, 0.19607843],\n",
       "        [0.42745098, 0.28627452, 0.16470589]],\n",
       "\n",
       "       ...,\n",
       "\n",
       "       [[0.8156863 , 0.6666667 , 0.3764706 ],\n",
       "        [0.7882353 , 0.6       , 0.13333334],\n",
       "        [0.7764706 , 0.6313726 , 0.10196079],\n",
       "        ...,\n",
       "        [0.627451  , 0.52156866, 0.27450982],\n",
       "        [0.21960784, 0.12156863, 0.02745098],\n",
       "        [0.20784314, 0.13333334, 0.07843138]],\n",
       "\n",
       "       [[0.7058824 , 0.54509807, 0.3764706 ],\n",
       "        [0.6784314 , 0.48235294, 0.16470589],\n",
       "        [0.7294118 , 0.5647059 , 0.11764706],\n",
       "        ...,\n",
       "        [0.72156864, 0.5803922 , 0.36862746],\n",
       "        [0.38039216, 0.24313726, 0.13333334],\n",
       "        [0.3254902 , 0.20784314, 0.13333334]],\n",
       "\n",
       "       [[0.69411767, 0.5647059 , 0.45490196],\n",
       "        [0.65882355, 0.5058824 , 0.36862746],\n",
       "        [0.7019608 , 0.5568628 , 0.34117648],\n",
       "        ...,\n",
       "        [0.84705883, 0.72156864, 0.54901963],\n",
       "        [0.5921569 , 0.4627451 , 0.32941177],\n",
       "        [0.48235294, 0.36078432, 0.28235295]]], dtype=float32)"
      ]
     },
     "execution_count": 13,
     "metadata": {},
     "output_type": "execute_result"
    }
   ],
   "source": [
    "#displaying the x_train training within the network with the index of '0'\n",
    "x_train[0]"
   ]
  },
  {
   "cell_type": "markdown",
   "id": "8f7b0b41",
   "metadata": {},
   "source": [
    "# Building and Training our Convolutional Neural Network"
   ]
  },
  {
   "cell_type": "code",
   "execution_count": 14,
   "id": "e110c159",
   "metadata": {},
   "outputs": [],
   "source": [
    "#creating an empty sequential layer. We will use this to model and add to it later on\n",
    "model = Sequential()"
   ]
  },
  {
   "cell_type": "markdown",
   "id": "637a1c4b",
   "metadata": {},
   "source": [
    "Coding the first layer of the network"
   ]
  },
  {
   "cell_type": "code",
   "execution_count": 15,
   "id": "08322649",
   "metadata": {},
   "outputs": [],
   "source": [
    "model.add(Conv2D(32, (3, 3), activation= 'relu', padding= 'same', input_shape=(32,32,3)))"
   ]
  },
  {
   "cell_type": "markdown",
   "id": "49ee7ac4",
   "metadata": {},
   "source": [
    "Coding the second layer of the network"
   ]
  },
  {
   "cell_type": "code",
   "execution_count": 16,
   "id": "622e61b1",
   "metadata": {},
   "outputs": [],
   "source": [
    "model.add(Conv2D(32, (3, 3), activation= 'relu', padding= 'same'))"
   ]
  },
  {
   "cell_type": "markdown",
   "id": "ae4c34c2",
   "metadata": {},
   "source": [
    "Max Pooling the layers with a 2x2 size\n",
    "\n",
    "Max Pooling: Max Pooling is a convolution process where the Kernel extracts the maximum value of the area it convolves."
   ]
  },
  {
   "cell_type": "code",
   "execution_count": 17,
   "id": "83a3c5f7",
   "metadata": {},
   "outputs": [],
   "source": [
    "model.add(MaxPooling2D(pool_size=(2, 2)))"
   ]
  },
  {
   "cell_type": "markdown",
   "id": "a61b9554",
   "metadata": {},
   "source": [
    "Adding a droput layer with a probability of .25 to prevent it from overfitting"
   ]
  },
  {
   "cell_type": "code",
   "execution_count": 18,
   "id": "519d287b",
   "metadata": {},
   "outputs": [],
   "source": [
    "model.add(Dropout(0.25))"
   ]
  },
  {
   "cell_type": "markdown",
   "id": "96b9fb00",
   "metadata": {},
   "source": [
    "Adding anothe 4 layers. They will be the same as the first 4 but with a conv layer of 64 rather than 32"
   ]
  },
  {
   "cell_type": "code",
   "execution_count": 19,
   "id": "2dbf0e61",
   "metadata": {},
   "outputs": [],
   "source": [
    "model.add(Conv2D(64, (3, 3), activation='relu', padding='same'))\n",
    "model.add(Conv2D(64, (3, 3), activation='relu', padding='same'))\n",
    "model.add(MaxPooling2D(pool_size=(2, 2)))\n",
    "model.add(Dropout(0.25))"
   ]
  },
  {
   "cell_type": "markdown",
   "id": "e9a264ca",
   "metadata": {},
   "source": [
    "Coding and connecting our layers. This time, the neurons are spatially arranged. we also flatten the layers since they are going to be arranged in a cubical format"
   ]
  },
  {
   "cell_type": "code",
   "execution_count": 20,
   "id": "e1e8af7e",
   "metadata": {},
   "outputs": [],
   "source": [
    "model.add(Flatten())"
   ]
  },
  {
   "cell_type": "markdown",
   "id": "8c5331db",
   "metadata": {},
   "source": [
    "Coding a dense layer with 512 neurons with relu activation\n",
    "\n",
    "ReLU activation: The Rectified Linear Unit is the most commonly used activation function in deep learning models."
   ]
  },
  {
   "cell_type": "code",
   "execution_count": 21,
   "id": "bd517baf",
   "metadata": {},
   "outputs": [],
   "source": [
    "model.add(Dense(512, activation = 'relu'))"
   ]
  },
  {
   "cell_type": "markdown",
   "id": "75dc6350",
   "metadata": {},
   "source": [
    "Adding a dropout probability with the rate of .5"
   ]
  },
  {
   "cell_type": "code",
   "execution_count": 22,
   "id": "67c04da0",
   "metadata": {},
   "outputs": [],
   "source": [
    "model.add(Dropout(.5))"
   ]
  },
  {
   "cell_type": "markdown",
   "id": "5e4e7539",
   "metadata": {},
   "source": [
    "Coding another dense layer, now with 10 neurons rather than 512 and with softmax activation."
   ]
  },
  {
   "cell_type": "code",
   "execution_count": 23,
   "id": "b3de1fe2",
   "metadata": {},
   "outputs": [],
   "source": [
    "model.add(Dense(10, activation='softmax'))"
   ]
  },
  {
   "cell_type": "markdown",
   "id": "cadf11cc",
   "metadata": {},
   "source": [
    "Seeing the actual structure of the model"
   ]
  },
  {
   "cell_type": "code",
   "execution_count": 24,
   "id": "1a405587",
   "metadata": {},
   "outputs": [
    {
     "name": "stdout",
     "output_type": "stream",
     "text": [
      "Model: \"sequential\"\n",
      "_________________________________________________________________\n",
      " Layer (type)                Output Shape              Param #   \n",
      "=================================================================\n",
      " conv2d (Conv2D)             (None, 32, 32, 32)        896       \n",
      "                                                                 \n",
      " conv2d_1 (Conv2D)           (None, 32, 32, 32)        9248      \n",
      "                                                                 \n",
      " max_pooling2d (MaxPooling2D  (None, 16, 16, 32)       0         \n",
      " )                                                               \n",
      "                                                                 \n",
      " dropout (Dropout)           (None, 16, 16, 32)        0         \n",
      "                                                                 \n",
      " conv2d_2 (Conv2D)           (None, 16, 16, 64)        18496     \n",
      "                                                                 \n",
      " conv2d_3 (Conv2D)           (None, 16, 16, 64)        36928     \n",
      "                                                                 \n",
      " max_pooling2d_1 (MaxPooling  (None, 8, 8, 64)         0         \n",
      " 2D)                                                             \n",
      "                                                                 \n",
      " dropout_1 (Dropout)         (None, 8, 8, 64)          0         \n",
      "                                                                 \n",
      " flatten (Flatten)           (None, 4096)              0         \n",
      "                                                                 \n",
      " dense (Dense)               (None, 512)               2097664   \n",
      "                                                                 \n",
      " dropout_2 (Dropout)         (None, 512)               0         \n",
      "                                                                 \n",
      " dense_1 (Dense)             (None, 10)                5130      \n",
      "                                                                 \n",
      "=================================================================\n",
      "Total params: 2,168,362\n",
      "Trainable params: 2,168,362\n",
      "Non-trainable params: 0\n",
      "_________________________________________________________________\n"
     ]
    }
   ],
   "source": [
    "model.summary()"
   ]
  },
  {
   "cell_type": "markdown",
   "id": "f449135a",
   "metadata": {},
   "source": [
    "We now use the loss function in order to classify various problems. We classify them using the 'categorical_crossentropy'.\n",
    "\n",
    "The optimizer is going the 'Adam' which is a type of stochastic gradient descent which helps train the network better.\n",
    "\n",
    "We will also track the accuracy of the model\n",
    "\n",
    "Categorical Crossentropy: It gives us a measure of how well the network is learning the data\n",
    "\n",
    "Stochastic Gradient Descent: Stochastic gradient descent is the most efficient algorithm discovered for training artificial neural networks"
   ]
  },
  {
   "cell_type": "code",
   "execution_count": 25,
   "id": "eb030fd3",
   "metadata": {},
   "outputs": [],
   "source": [
    "model.compile(loss='categorical_crossentropy', optimizer='adam', metrics=['accuracy'])"
   ]
  },
  {
   "cell_type": "code",
   "execution_count": 26,
   "id": "9b38339f",
   "metadata": {},
   "outputs": [
    {
     "name": "stdout",
     "output_type": "stream",
     "text": [
      "Epoch 1/20\n",
      "1250/1250 [==============================] - 7s 4ms/step - loss: 1.5691 - accuracy: 0.4268 - val_loss: 1.1855 - val_accuracy: 0.5836\n",
      "Epoch 2/20\n",
      "1250/1250 [==============================] - 5s 4ms/step - loss: 1.1659 - accuracy: 0.5845 - val_loss: 0.9686 - val_accuracy: 0.6574\n",
      "Epoch 3/20\n",
      "1250/1250 [==============================] - 5s 4ms/step - loss: 1.0090 - accuracy: 0.6434 - val_loss: 0.9132 - val_accuracy: 0.6823\n",
      "Epoch 4/20\n",
      "1250/1250 [==============================] - 5s 4ms/step - loss: 0.8968 - accuracy: 0.6823 - val_loss: 0.8245 - val_accuracy: 0.7147\n",
      "Epoch 5/20\n",
      "1250/1250 [==============================] - 5s 4ms/step - loss: 0.8268 - accuracy: 0.7098 - val_loss: 0.8204 - val_accuracy: 0.7165\n",
      "Epoch 6/20\n",
      "1250/1250 [==============================] - 5s 4ms/step - loss: 0.7674 - accuracy: 0.7327 - val_loss: 0.7632 - val_accuracy: 0.7344\n",
      "Epoch 7/20\n",
      "1250/1250 [==============================] - 5s 4ms/step - loss: 0.7218 - accuracy: 0.7442 - val_loss: 0.7383 - val_accuracy: 0.7410\n",
      "Epoch 8/20\n",
      "1250/1250 [==============================] - 5s 4ms/step - loss: 0.6789 - accuracy: 0.7603 - val_loss: 0.7003 - val_accuracy: 0.7600\n",
      "Epoch 9/20\n",
      "1250/1250 [==============================] - 5s 4ms/step - loss: 0.6431 - accuracy: 0.7739 - val_loss: 0.7105 - val_accuracy: 0.7561\n",
      "Epoch 10/20\n",
      "1250/1250 [==============================] - 5s 4ms/step - loss: 0.6097 - accuracy: 0.7849 - val_loss: 0.7027 - val_accuracy: 0.7616\n",
      "Epoch 11/20\n",
      "1250/1250 [==============================] - 5s 4ms/step - loss: 0.5750 - accuracy: 0.7972 - val_loss: 0.6887 - val_accuracy: 0.7678\n",
      "Epoch 12/20\n",
      "1250/1250 [==============================] - 5s 4ms/step - loss: 0.5536 - accuracy: 0.8048 - val_loss: 0.7066 - val_accuracy: 0.7620\n",
      "Epoch 13/20\n",
      "1250/1250 [==============================] - 5s 4ms/step - loss: 0.5362 - accuracy: 0.8138 - val_loss: 0.6831 - val_accuracy: 0.7682\n",
      "Epoch 14/20\n",
      "1250/1250 [==============================] - 5s 4ms/step - loss: 0.5205 - accuracy: 0.8162 - val_loss: 0.6880 - val_accuracy: 0.7767\n",
      "Epoch 15/20\n",
      "1250/1250 [==============================] - 5s 4ms/step - loss: 0.4961 - accuracy: 0.8248 - val_loss: 0.6939 - val_accuracy: 0.7708\n",
      "Epoch 16/20\n",
      "1250/1250 [==============================] - 5s 4ms/step - loss: 0.4783 - accuracy: 0.8292 - val_loss: 0.7278 - val_accuracy: 0.7629\n",
      "Epoch 17/20\n",
      "1250/1250 [==============================] - 5s 4ms/step - loss: 0.4650 - accuracy: 0.8365 - val_loss: 0.7042 - val_accuracy: 0.7758\n",
      "Epoch 18/20\n",
      "1250/1250 [==============================] - 5s 4ms/step - loss: 0.4520 - accuracy: 0.8414 - val_loss: 0.7163 - val_accuracy: 0.7725\n",
      "Epoch 19/20\n",
      "1250/1250 [==============================] - 5s 4ms/step - loss: 0.4421 - accuracy: 0.8446 - val_loss: 0.7035 - val_accuracy: 0.7720\n",
      "Epoch 20/20\n",
      "1250/1250 [==============================] - 5s 4ms/step - loss: 0.4293 - accuracy: 0.8495 - val_loss: 0.7223 - val_accuracy: 0.7726\n"
     ]
    }
   ],
   "source": [
    "#Time to run the training\n",
    "hist = model.fit(x_train, y_train_one_hot, batch_size=32, epochs=20, validation_split=0.2)"
   ]
  },
  {
   "cell_type": "markdown",
   "id": "0365f414",
   "metadata": {},
   "source": [
    "# Visualizing the model training and the validation loss using matplotlib"
   ]
  },
  {
   "cell_type": "code",
   "execution_count": 27,
   "id": "de66f630",
   "metadata": {},
   "outputs": [
    {
     "data": {
      "image/png": "[encoded data removed]",
      "text/plain": [
       "<Figure size 640x480 with 1 Axes>"
      ]
     },
     "metadata": {},
     "output_type": "display_data"
    }
   ],
   "source": [
    "plt.plot(hist.history['loss'])\n",
    "plt.plot(hist.history['val_loss'])\n",
    "plt.title('Model loss')\n",
    "plt.ylabel('Loss')\n",
    "plt.xlabel('Epoch')\n",
    "plt.legend(['Train', 'Val'], loc='upper right')\n",
    "plt.show()"
   ]
  },
  {
   "cell_type": "code",
   "execution_count": 28,
   "id": "9ac51cdf",
   "metadata": {},
   "outputs": [
    {
     "data": {
      "image/png": "[encoded data removed]",
      "text/plain": [
       "<Figure size 640x480 with 1 Axes>"
      ]
     },
     "metadata": {},
     "output_type": "display_data"
    }
   ],
   "source": [
    "plt.plot(hist.history['accuracy'])\n",
    "plt.plot(hist.history['val_accuracy'])\n",
    "plt.title('Model accuracy')\n",
    "plt.ylabel('Accuracy')\n",
    "plt.xlabel('Epoch')\n",
    "plt.legend(['Train', 'Val'], loc='lower right')\n",
    "plt.show()"
   ]
  },
  {
   "cell_type": "markdown",
   "id": "e3f826e4",
   "metadata": {},
   "source": [
    "Tweakin the hyperparameters and run it on our test dataset"
   ]
  },
  {
   "cell_type": "code",
   "execution_count": 29,
   "id": "bfeb61ff",
   "metadata": {},
   "outputs": [
    {
     "name": "stdout",
     "output_type": "stream",
     "text": [
      "313/313 [==============================] - 1s 2ms/step - loss: 0.7265 - accuracy: 0.7722\n"
     ]
    },
    {
     "data": {
      "text/plain": [
       "0.7721999883651733"
      ]
     },
     "execution_count": 29,
     "metadata": {},
     "output_type": "execute_result"
    }
   ],
   "source": [
    "model.evaluate(x_test, y_test_one_hot)[1]"
   ]
  },
  {
   "cell_type": "markdown",
   "id": "f9a3bf17",
   "metadata": {},
   "source": [
    "Saving the trained model.\n",
    "\n",
    "We will save in a HDF5 format (extension '.h5')\n",
    "\n",
    "HDF5 format: The Hierarchical Data Format version 5 (HDF5), is an open source file format that supports large, complex, heterogeneous data."
   ]
  },
  {
   "cell_type": "code",
   "execution_count": 30,
   "id": "a0a1d0f6",
   "metadata": {},
   "outputs": [],
   "source": [
    "model.save('cifar10_model.h5')"
   ]
  },
  {
   "cell_type": "markdown",
   "id": "88e222e2",
   "metadata": {},
   "source": [
    "# Testing out with some of my images"
   ]
  },
  {
   "cell_type": "code",
   "execution_count": 31,
   "id": "489a755d",
   "metadata": {},
   "outputs": [],
   "source": [
    "image = plt.imread('cat.jpg')"
   ]
  },
  {
   "cell_type": "markdown",
   "id": "43844bd9",
   "metadata": {},
   "source": [
    "Resizing the image of the cat in order to fit it into the model"
   ]
  },
  {
   "cell_type": "code",
   "execution_count": 32,
   "id": "af9b3c30",
   "metadata": {},
   "outputs": [],
   "source": [
    "image_resize = resize(image, (32, 32, 3))"
   ]
  },
  {
   "cell_type": "markdown",
   "id": "cb48608a",
   "metadata": {},
   "source": [
    "Displaying my image that was just imported"
   ]
  },
  {
   "cell_type": "code",
   "execution_count": 33,
   "id": "67e79470",
   "metadata": {},
   "outputs": [
    {
     "data": {
      "image/png": "[encoded data removed]",
      "text/plain": [
       "<Figure size 640x480 with 1 Axes>"
      ]
     },
     "metadata": {},
     "output_type": "display_data"
    }
   ],
   "source": [
    "img = plt.imshow(image_resize)"
   ]
  },
  {
   "cell_type": "markdown",
   "id": "4f5721fc",
   "metadata": {},
   "source": [
    "Coding the probabilites of the model based on the new image"
   ]
  },
  {
   "cell_type": "code",
   "execution_count": 34,
   "id": "189ba45f",
   "metadata": {},
   "outputs": [
    {
     "name": "stdout",
     "output_type": "stream",
     "text": [
      "1/1 [==============================] - 0s 120ms/step\n"
     ]
    }
   ],
   "source": [
    "probs = model.predict(np.array([image_resize,]))"
   ]
  },
  {
   "cell_type": "code",
   "execution_count": 35,
   "id": "e681b16d",
   "metadata": {},
   "outputs": [
    {
     "data": {
      "text/plain": [
       "array([[1.0333713e-04, 1.5029677e-07, 3.9418279e-03, 3.1020021e-02,\n",
       "        9.5709398e-02, 7.2917640e-01, 8.3888313e-05, 1.3995644e-01,\n",
       "        7.5685616e-06, 1.0305466e-06]], dtype=float32)"
      ]
     },
     "execution_count": 35,
     "metadata": {},
     "output_type": "execute_result"
    }
   ],
   "source": [
    "#Displaying the probabilities\n",
    "probs"
   ]
  },
  {
   "cell_type": "code",
   "execution_count": 36,
   "id": "2c80b71d",
   "metadata": {},
   "outputs": [],
   "source": [
    "number_to_class = ['airplane', 'automobile', 'bird', 'cat', 'deer', 'dog', 'frog', 'horse', 'ship', 'truck']\n",
    "index = np.argsort(probs[0,:])"
   ]
  },
  {
   "cell_type": "code",
   "execution_count": 37,
   "id": "23a32009",
   "metadata": {},
   "outputs": [
    {
     "name": "stdout",
     "output_type": "stream",
     "text": [
      "Most likely class: dog -- Probability: [0.7291764]\n",
      "Second Most likely class: horse -- Probability: [0.13995644]\n",
      "Third Most likely class: deer -- Probability: [0.0957094]\n",
      "Fourth Most likely class: cat -- Probability: [0.03102002]\n",
      "Fifth Most likely class: bird -- Probability: [0.00394183]\n"
     ]
    }
   ],
   "source": [
    "print(f'Most likely class: {number_to_class[index[9]]} -- Probability: {probs[0,[index[9]]]}')\n",
    "print(f'Second Most likely class: {number_to_class[index[8]]} -- Probability: {probs[0,[index[8]]]}')\n",
    "print(f'Third Most likely class: {number_to_class[index[7]]} -- Probability: {probs[0,[index[7]]]}')\n",
    "print(f'Fourth Most likely class: {number_to_class[index[6]]} -- Probability: {probs[0,[index[6]]]}')\n",
    "print(f'Fifth Most likely class: {number_to_class[index[5]]} -- Probability: {probs[0,[index[5]]]}')"
   ]
  },
  {
   "cell_type": "markdown",
   "id": "366a1a3c",
   "metadata": {},
   "source": [
    "Overall, this neural model has accurately predicted that the image above is a cat."
   ]
  },
  {
   "cell_type": "markdown",
   "id": "d2efde25",
   "metadata": {},
   "source": [
    "Credits to Author:\n",
    "\n",
    "Joseph Lee\n",
    "\n",
    "Github Repository:\n",
    "\n",
    "https://github.com/josephlee94/intuitive-deep-learning/tree/master/Part%202:%20Image%20Recognition%20CIFAR-10"
   ]
  }
 ],
 "metadata": {
  "kernelspec": {
   "display_name": "Python 3 (ipykernel)",
   "language": "python",
   "name": "python3"
  },
  "language_info": {
   "codemirror_mode": {
    "name": "ipython",
    "version": 3
   },
   "file_extension": ".py",
   "mimetype": "text/x-python",
   "name": "python",
   "nbconvert_exporter": "python",
   "pygments_lexer": "ipython3",
   "version": "3.9.13"
  }
 },
 "nbformat": 4,
 "nbformat_minor": 5
}
